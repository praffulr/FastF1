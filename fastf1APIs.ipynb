{
 "cells": [
  {
   "cell_type": "code",
   "execution_count": 4,
   "metadata": {},
   "outputs": [
    {
     "ename": "SyntaxError",
     "evalue": "invalid syntax (3009530380.py, line 1)",
     "output_type": "error",
     "traceback": [
      "\u001b[0;36m  Cell \u001b[0;32mIn[4], line 1\u001b[0;36m\u001b[0m\n\u001b[0;31m    Firstly, Install the package from pip\u001b[0m\n\u001b[0m                                 ^\u001b[0m\n\u001b[0;31mSyntaxError\u001b[0m\u001b[0;31m:\u001b[0m invalid syntax\n"
     ]
    }
   ],
   "source": [
    "Firstly, Install the package from pip"
   ]
  },
  {
   "cell_type": "code",
   "execution_count": null,
   "metadata": {},
   "outputs": [
    {
     "name": "stdout",
     "output_type": "stream",
     "text": [
      "Defaulting to user installation because normal site-packages is not writeable\n",
      "Collecting fastf1\n",
      "  Downloading fastf1-3.5.3-py3-none-any.whl (151 kB)\n",
      "\u001b[K     |████████████████████████████████| 151 kB 1.8 MB/s eta 0:00:01\n",
      "\u001b[?25hCollecting scipy<2.0.0,>=1.8.1\n",
      "  Downloading scipy-1.13.1-cp39-cp39-macosx_12_0_arm64.whl (30.3 MB)\n",
      "\u001b[K     |████████████████████████████████| 30.3 MB 2.2 MB/s eta 0:00:01\n",
      "\u001b[?25hCollecting matplotlib<4.0.0,>=3.5.1\n",
      "  Downloading matplotlib-3.9.4-cp39-cp39-macosx_11_0_arm64.whl (7.8 MB)\n",
      "\u001b[K     |████████████████████████████████| 7.8 MB 2.3 MB/s eta 0:00:01\n",
      "\u001b[?25hCollecting requests-cache>=1.0.0\n",
      "  Downloading requests_cache-1.2.1-py3-none-any.whl (61 kB)\n",
      "\u001b[K     |████████████████████████████████| 61 kB 3.2 MB/s eta 0:00:01\n",
      "\u001b[?25hCollecting rapidfuzz\n",
      "  Downloading rapidfuzz-3.12.2-cp39-cp39-macosx_11_0_arm64.whl (1.4 MB)\n",
      "\u001b[K     |████████████████████████████████| 1.4 MB 2.6 MB/s eta 0:00:01\n",
      "\u001b[?25hRequirement already satisfied: python-dateutil in /Users/goodbrambola/Library/Python/3.9/lib/python/site-packages (from fastf1) (2.9.0.post0)\n",
      "Collecting numpy<3.0.0,>=1.23.1\n",
      "  Downloading numpy-2.0.2-cp39-cp39-macosx_14_0_arm64.whl (5.3 MB)\n",
      "\u001b[K     |████████████████████████████████| 5.3 MB 2.8 MB/s eta 0:00:01\n",
      "\u001b[?25hCollecting timple>=0.1.6\n",
      "  Downloading timple-0.1.8-py3-none-any.whl (17 kB)\n",
      "Collecting websockets<14,>=10.3\n",
      "  Downloading websockets-13.1-cp39-cp39-macosx_11_0_arm64.whl (155 kB)\n",
      "\u001b[K     |████████████████████████████████| 155 kB 2.6 MB/s eta 0:00:01\n",
      "\u001b[?25hCollecting pandas<3.0.0,>=1.4.1\n",
      "  Downloading pandas-2.2.3-cp39-cp39-macosx_11_0_arm64.whl (11.3 MB)\n",
      "\u001b[K     |████████████████████████████████| 11.3 MB 4.3 MB/s eta 0:00:01\n",
      "\u001b[?25hCollecting requests>=2.28.1\n",
      "  Downloading requests-2.32.3-py3-none-any.whl (64 kB)\n",
      "\u001b[K     |████████████████████████████████| 64 kB 4.7 MB/s eta 0:00:01\n",
      "\u001b[?25hRequirement already satisfied: packaging>=20.0 in /Users/goodbrambola/Library/Python/3.9/lib/python/site-packages (from matplotlib<4.0.0,>=3.5.1->fastf1) (24.2)\n",
      "Collecting pillow>=8\n",
      "  Downloading pillow-11.1.0-cp39-cp39-macosx_11_0_arm64.whl (3.1 MB)\n",
      "\u001b[K     |████████████████████████████████| 3.1 MB 2.3 MB/s eta 0:00:01\n",
      "\u001b[?25hCollecting kiwisolver>=1.3.1\n",
      "  Downloading kiwisolver-1.4.7-cp39-cp39-macosx_11_0_arm64.whl (64 kB)\n",
      "\u001b[K     |████████████████████████████████| 64 kB 4.8 MB/s eta 0:00:01\n",
      "\u001b[?25hCollecting fonttools>=4.22.0\n",
      "  Downloading fonttools-4.56.0-cp39-cp39-macosx_10_9_universal2.whl (2.8 MB)\n",
      "\u001b[K     |████████████████████████████████| 2.8 MB 4.0 MB/s eta 0:00:01\n",
      "\u001b[?25hCollecting pyparsing>=2.3.1\n",
      "  Downloading pyparsing-3.2.3-py3-none-any.whl (111 kB)\n",
      "\u001b[K     |████████████████████████████████| 111 kB 4.9 MB/s eta 0:00:01\n",
      "\u001b[?25hCollecting contourpy>=1.0.1\n",
      "  Downloading contourpy-1.3.0-cp39-cp39-macosx_11_0_arm64.whl (249 kB)\n",
      "\u001b[K     |████████████████████████████████| 249 kB 4.3 MB/s eta 0:00:01\n",
      "\u001b[?25hCollecting cycler>=0.10\n",
      "  Downloading cycler-0.12.1-py3-none-any.whl (8.3 kB)\n",
      "Collecting importlib-resources>=3.2.0\n",
      "  Downloading importlib_resources-6.5.2-py3-none-any.whl (37 kB)\n",
      "Requirement already satisfied: zipp>=3.1.0 in /Users/goodbrambola/Library/Python/3.9/lib/python/site-packages (from importlib-resources>=3.2.0->matplotlib<4.0.0,>=3.5.1->fastf1) (3.21.0)\n",
      "Collecting tzdata>=2022.7\n",
      "  Downloading tzdata-2025.2-py2.py3-none-any.whl (347 kB)\n",
      "\u001b[K     |████████████████████████████████| 347 kB 2.6 MB/s eta 0:00:01\n",
      "\u001b[?25hCollecting pytz>=2020.1\n",
      "  Downloading pytz-2025.2-py2.py3-none-any.whl (509 kB)\n",
      "\u001b[K     |████████████████████████████████| 509 kB 1.1 MB/s eta 0:00:01\n",
      "\u001b[?25hRequirement already satisfied: six>=1.5 in /Library/Developer/CommandLineTools/Library/Frameworks/Python3.framework/Versions/3.9/lib/python3.9/site-packages (from python-dateutil->fastf1) (1.15.0)\n",
      "Collecting urllib3<3,>=1.21.1\n",
      "  Downloading urllib3-2.3.0-py3-none-any.whl (128 kB)\n",
      "\u001b[K     |████████████████████████████████| 128 kB 3.1 MB/s eta 0:00:01\n",
      "\u001b[?25hCollecting certifi>=2017.4.17\n",
      "  Downloading certifi-2025.1.31-py3-none-any.whl (166 kB)\n",
      "\u001b[K     |████████████████████████████████| 166 kB 3.1 MB/s eta 0:00:01\n",
      "\u001b[?25hCollecting charset-normalizer<4,>=2\n",
      "  Downloading charset_normalizer-3.4.1-cp39-cp39-macosx_10_9_universal2.whl (197 kB)\n",
      "\u001b[K     |████████████████████████████████| 197 kB 3.2 MB/s eta 0:00:01\n",
      "\u001b[?25hCollecting idna<4,>=2.5\n",
      "  Downloading idna-3.10-py3-none-any.whl (70 kB)\n",
      "\u001b[K     |████████████████████████████████| 70 kB 5.9 MB/s eta 0:00:011\n",
      "\u001b[?25hRequirement already satisfied: platformdirs>=2.5 in /Users/goodbrambola/Library/Python/3.9/lib/python/site-packages (from requests-cache>=1.0.0->fastf1) (4.3.7)\n",
      "Collecting cattrs>=22.2\n",
      "  Downloading cattrs-24.1.3-py3-none-any.whl (66 kB)\n",
      "\u001b[K     |████████████████████████████████| 66 kB 2.5 MB/s eta 0:00:01\n",
      "\u001b[?25hCollecting url-normalize>=1.4\n",
      "  Downloading url_normalize-1.4.3-py2.py3-none-any.whl (6.8 kB)\n",
      "Collecting attrs>=21.2\n",
      "  Downloading attrs-25.3.0-py3-none-any.whl (63 kB)\n",
      "\u001b[K     |████████████████████████████████| 63 kB 7.5 MB/s  eta 0:00:01\n",
      "\u001b[?25hRequirement already satisfied: exceptiongroup>=1.1.1 in /Users/goodbrambola/Library/Python/3.9/lib/python/site-packages (from cattrs>=22.2->requests-cache>=1.0.0->fastf1) (1.2.2)\n",
      "Requirement already satisfied: typing-extensions!=4.6.3,>=4.1.0 in /Users/goodbrambola/Library/Python/3.9/lib/python/site-packages (from cattrs>=22.2->requests-cache>=1.0.0->fastf1) (4.13.0)\n",
      "Installing collected packages: numpy, urllib3, pyparsing, pillow, kiwisolver, importlib-resources, idna, fonttools, cycler, contourpy, charset-normalizer, certifi, attrs, url-normalize, tzdata, requests, pytz, matplotlib, cattrs, websockets, timple, scipy, requests-cache, rapidfuzz, pandas, fastf1\n",
      "Successfully installed attrs-25.3.0 cattrs-24.1.3 certifi-2025.1.31 charset-normalizer-3.4.1 contourpy-1.3.0 cycler-0.12.1 fastf1-3.5.3 fonttools-4.56.0 idna-3.10 importlib-resources-6.5.2 kiwisolver-1.4.7 matplotlib-3.9.4 numpy-2.0.2 pandas-2.2.3 pillow-11.1.0 pyparsing-3.2.3 pytz-2025.2 rapidfuzz-3.12.2 requests-2.32.3 requests-cache-1.2.1 scipy-1.13.1 timple-0.1.8 tzdata-2025.2 url-normalize-1.4.3 urllib3-2.3.0 websockets-13.1\n",
      "\u001b[33mWARNING: You are using pip version 21.2.4; however, version 25.0.1 is available.\n",
      "You should consider upgrading via the '/Library/Developer/CommandLineTools/usr/bin/python3 -m pip install --upgrade pip' command.\u001b[0m\n",
      "Note: you may need to restart the kernel to use updated packages.\n"
     ]
    }
   ],
   "source": [
    "pip install fastf1"
   ]
  },
  {
   "cell_type": "code",
   "execution_count": 5,
   "metadata": {},
   "outputs": [
    {
     "name": "stderr",
     "output_type": "stream",
     "text": [
      "/Users/goodbrambola/Library/Python/3.9/lib/python/site-packages/urllib3/__init__.py:35: NotOpenSSLWarning: urllib3 v2 only supports OpenSSL 1.1.1+, currently the 'ssl' module is compiled with 'LibreSSL 2.8.3'. See: https://github.com/urllib3/urllib3/issues/3020\n",
      "  warnings.warn(\n"
     ]
    }
   ],
   "source": [
    "import fastf1"
   ]
  },
  {
   "cell_type": "code",
   "execution_count": 6,
   "metadata": {},
   "outputs": [
    {
     "name": "stderr",
     "output_type": "stream",
     "text": [
      "req         WARNING \tDEFAULT CACHE ENABLED! (24.0 KB) /Users/goodbrambola/Library/Caches/fastf1\n",
      "core           INFO \tLoading data for Saudi Arabian Grand Prix - Race [v3.5.3]\n",
      "req            INFO \tNo cached data found for session_info. Loading data...\n",
      "_api           INFO \tFetching session info data...\n",
      "req            INFO \tData has been written to cache!\n",
      "req            INFO \tNo cached data found for driver_info. Loading data...\n",
      "_api           INFO \tFetching driver list...\n",
      "req            INFO \tData has been written to cache!\n",
      "req            INFO \tNo cached data found for session_status_data. Loading data...\n",
      "_api           INFO \tFetching session status data...\n",
      "req            INFO \tData has been written to cache!\n",
      "req            INFO \tNo cached data found for lap_count. Loading data...\n",
      "_api           INFO \tFetching lap count data...\n",
      "req            INFO \tData has been written to cache!\n",
      "req            INFO \tNo cached data found for track_status_data. Loading data...\n",
      "_api           INFO \tFetching track status data...\n",
      "req            INFO \tData has been written to cache!\n",
      "req            INFO \tNo cached data found for _extended_timing_data. Loading data...\n",
      "_api           INFO \tFetching timing data...\n",
      "_api           INFO \tParsing timing data...\n",
      "_api        WARNING \tFailed to align laps for drivers: ['10']\n",
      "req            INFO \tData has been written to cache!\n",
      "req            INFO \tNo cached data found for timing_app_data. Loading data...\n",
      "_api           INFO \tFetching timing app data...\n",
      "req            INFO \tData has been written to cache!\n",
      "core           INFO \tProcessing timing data...\n",
      "req            INFO \tNo cached data found for car_data. Loading data...\n",
      "_api           INFO \tFetching car data...\n",
      "_api           INFO \tParsing car data...\n",
      "_api        WARNING \tDriver 55: Car data is incomplete!\n",
      "_api        WARNING \tDriver 38: Car data is incomplete!\n",
      "req            INFO \tData has been written to cache!\n",
      "req            INFO \tNo cached data found for position_data. Loading data...\n",
      "_api           INFO \tFetching position data...\n",
      "_api           INFO \tParsing position data...\n",
      "_api        WARNING \tDriver 55: Position data is incomplete!\n",
      "_api        WARNING \tDriver 38: Position data is incomplete!\n",
      "_api        WARNING \tDriver 241: Position data is incomplete!\n",
      "_api        WARNING \tDriver 242: Position data is incomplete!\n",
      "_api        WARNING \tDriver 243: Position data is incomplete!\n",
      "req            INFO \tData has been written to cache!\n",
      "req            INFO \tNo cached data found for weather_data. Loading data...\n",
      "_api           INFO \tFetching weather data...\n",
      "req            INFO \tData has been written to cache!\n",
      "req            INFO \tNo cached data found for race_control_messages. Loading data...\n",
      "_api           INFO \tFetching race control messages...\n",
      "req            INFO \tData has been written to cache!\n",
      "core           INFO \tFinished loading data for 20 drivers: ['1', '11', '16', '81', '14', '63', '38', '4', '44', '27', '23', '20', '31', '2', '22', '3', '77', '24', '18', '10']\n"
     ]
    }
   ],
   "source": [
    "session_2024 = fastf1.get_session(2024, 2, \"R\")\n",
    "session_2024.load()"
   ]
  },
  {
   "cell_type": "code",
   "execution_count": null,
   "metadata": {},
   "outputs": [
    {
     "name": "stdout",
     "output_type": "stream",
     "text": [
      "    Driver                LapTime  LapTime (s)\n",
      "0      VER 0 days 00:01:35.505000       95.505\n",
      "1      VER 0 days 00:01:34.205000       94.205\n",
      "2      VER 0 days 00:01:34.043000       94.043\n",
      "3      VER 0 days 00:01:33.754000       93.754\n",
      "4      VER 0 days 00:01:33.955000       93.955\n",
      "..     ...                    ...          ...\n",
      "896    PIA 0 days 00:01:32.557000       92.557\n",
      "897    PIA 0 days 00:01:32.574000       92.574\n",
      "898    PIA 0 days 00:01:32.657000       92.657\n",
      "899    PIA 0 days 00:01:32.588000       92.588\n",
      "900    PIA 0 days 00:01:32.769000       92.769\n",
      "\n",
      "[873 rows x 3 columns]\n"
     ]
    }
   ],
   "source": [
    "#extract lap times of drivers\n",
    "laps_2024 = session_2024.laps[[\"Driver\", \"LapTime\"]].copy()\n",
    "laps_2024.dropna(subset=[\"LapTime\"], inplace=True)\n",
    "laps_2024[\"LapTime (s)\"] = laps_2024[\"LapTime\"].dt.total_seconds()\n",
    "print (laps_2024)"
   ]
  },
  {
   "cell_type": "code",
   "execution_count": 9,
   "metadata": {},
   "outputs": [
    {
     "name": "stdout",
     "output_type": "stream",
     "text": [
      "2024 Season Round 2: Saudi Arabian Grand Prix - Race\n"
     ]
    }
   ],
   "source": [
    "print(session_2024)"
   ]
  }
 ],
 "metadata": {
  "kernelspec": {
   "display_name": "Python 3",
   "language": "python",
   "name": "python3"
  },
  "language_info": {
   "codemirror_mode": {
    "name": "ipython",
    "version": 3
   },
   "file_extension": ".py",
   "mimetype": "text/x-python",
   "name": "python",
   "nbconvert_exporter": "python",
   "pygments_lexer": "ipython3",
   "version": "3.9.6"
  }
 },
 "nbformat": 4,
 "nbformat_minor": 2
}
